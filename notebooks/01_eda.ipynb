{
 "cells": [
  {
   "cell_type": "markdown",
   "id": "2a74b58e",
   "metadata": {},
   "source": [
    "task 1"
   ]
  },
  {
   "cell_type": "markdown",
   "id": "e0226707",
   "metadata": {},
   "source": []
  }
 ],
 "metadata": {
  "language_info": {
   "name": "python"
  }
 },
 "nbformat": 4,
 "nbformat_minor": 5
}
